{
  "cells": [
    {
      "cell_type": "markdown",
      "metadata": {
        "id": "vfxxIKSwYSFg"
      },
      "source": [
        "### **Importing important Packages**"
      ]
    },
    {
      "cell_type": "code",
      "execution_count": 1,
      "metadata": {
        "id": "_ut71L8Voh7t"
      },
      "outputs": [],
      "source": [
        "import pandas as pd\n",
        "import seaborn as sns\n",
        "from matplotlib import pyplot as plt\n",
        "import numpy as np\n",
        "%matplotlib inline\n",
        "\n",
        "import warnings\n",
        "warnings.filterwarnings('ignore')"
      ]
    },
    {
      "cell_type": "code",
      "execution_count": 2,
      "metadata": {
        "colab": {
          "base_uri": "https://localhost:8080/",
          "height": 342
        },
        "id": "BxF0YmXcoyYK",
        "outputId": "c89b1c78-c457-4628-bfd0-8ae4878cc9b7"
      },
      "outputs": [
        {
          "data": {
            "text/html": [
              "<div>\n",
              "<style scoped>\n",
              "    .dataframe tbody tr th:only-of-type {\n",
              "        vertical-align: middle;\n",
              "    }\n",
              "\n",
              "    .dataframe tbody tr th {\n",
              "        vertical-align: top;\n",
              "    }\n",
              "\n",
              "    .dataframe thead th {\n",
              "        text-align: right;\n",
              "    }\n",
              "</style>\n",
              "<table border=\"1\" class=\"dataframe\">\n",
              "  <thead>\n",
              "    <tr style=\"text-align: right;\">\n",
              "      <th></th>\n",
              "      <th>Open Price</th>\n",
              "      <th>High Price</th>\n",
              "      <th>Low Price</th>\n",
              "      <th>Close Price</th>\n",
              "      <th>WAP</th>\n",
              "      <th>No.of Shares</th>\n",
              "      <th>No. of Trades</th>\n",
              "      <th>Total Turnover (Rs.)</th>\n",
              "      <th>Deliverable Quantity</th>\n",
              "      <th>% Deli. Qty to Traded Qty</th>\n",
              "      <th>Spread High-Low</th>\n",
              "      <th>Spread Close-Open</th>\n",
              "    </tr>\n",
              "    <tr>\n",
              "      <th>Date</th>\n",
              "      <th></th>\n",
              "      <th></th>\n",
              "      <th></th>\n",
              "      <th></th>\n",
              "      <th></th>\n",
              "      <th></th>\n",
              "      <th></th>\n",
              "      <th></th>\n",
              "      <th></th>\n",
              "      <th></th>\n",
              "      <th></th>\n",
              "      <th></th>\n",
              "    </tr>\n",
              "  </thead>\n",
              "  <tbody>\n",
              "    <tr>\n",
              "      <th>2021-06-04</th>\n",
              "      <td>534.80</td>\n",
              "      <td>535.75</td>\n",
              "      <td>531.25</td>\n",
              "      <td>532.70</td>\n",
              "      <td>533.229306</td>\n",
              "      <td>661985</td>\n",
              "      <td>12196</td>\n",
              "      <td>352989802.0</td>\n",
              "      <td>398176.0</td>\n",
              "      <td>60.15</td>\n",
              "      <td>4.50</td>\n",
              "      <td>-2.10</td>\n",
              "    </tr>\n",
              "    <tr>\n",
              "      <th>2021-06-03</th>\n",
              "      <td>531.85</td>\n",
              "      <td>533.35</td>\n",
              "      <td>528.70</td>\n",
              "      <td>532.10</td>\n",
              "      <td>531.013092</td>\n",
              "      <td>735782</td>\n",
              "      <td>15452</td>\n",
              "      <td>390709875.0</td>\n",
              "      <td>479872.0</td>\n",
              "      <td>65.22</td>\n",
              "      <td>4.65</td>\n",
              "      <td>0.25</td>\n",
              "    </tr>\n",
              "    <tr>\n",
              "      <th>2021-06-02</th>\n",
              "      <td>530.10</td>\n",
              "      <td>534.50</td>\n",
              "      <td>528.00</td>\n",
              "      <td>529.60</td>\n",
              "      <td>530.544324</td>\n",
              "      <td>494007</td>\n",
              "      <td>11723</td>\n",
              "      <td>262092610.0</td>\n",
              "      <td>273203.0</td>\n",
              "      <td>55.30</td>\n",
              "      <td>6.50</td>\n",
              "      <td>-0.50</td>\n",
              "    </tr>\n",
              "    <tr>\n",
              "      <th>2021-06-01</th>\n",
              "      <td>538.00</td>\n",
              "      <td>538.00</td>\n",
              "      <td>530.15</td>\n",
              "      <td>532.90</td>\n",
              "      <td>533.446883</td>\n",
              "      <td>501024</td>\n",
              "      <td>12404</td>\n",
              "      <td>267269691.0</td>\n",
              "      <td>232077.0</td>\n",
              "      <td>46.32</td>\n",
              "      <td>7.85</td>\n",
              "      <td>-5.10</td>\n",
              "    </tr>\n",
              "    <tr>\n",
              "      <th>2021-05-31</th>\n",
              "      <td>525.80</td>\n",
              "      <td>535.80</td>\n",
              "      <td>525.40</td>\n",
              "      <td>534.95</td>\n",
              "      <td>532.479380</td>\n",
              "      <td>927325</td>\n",
              "      <td>19141</td>\n",
              "      <td>493781441.0</td>\n",
              "      <td>549560.0</td>\n",
              "      <td>59.26</td>\n",
              "      <td>10.40</td>\n",
              "      <td>9.15</td>\n",
              "    </tr>\n",
              "  </tbody>\n",
              "</table>\n",
              "</div>"
            ],
            "text/plain": [
              "            Open Price  High Price  Low Price  Close Price         WAP  \\\n",
              "Date                                                                     \n",
              "2021-06-04      534.80      535.75     531.25       532.70  533.229306   \n",
              "2021-06-03      531.85      533.35     528.70       532.10  531.013092   \n",
              "2021-06-02      530.10      534.50     528.00       529.60  530.544324   \n",
              "2021-06-01      538.00      538.00     530.15       532.90  533.446883   \n",
              "2021-05-31      525.80      535.80     525.40       534.95  532.479380   \n",
              "\n",
              "            No.of Shares  No. of Trades  Total Turnover (Rs.)  \\\n",
              "Date                                                            \n",
              "2021-06-04        661985          12196           352989802.0   \n",
              "2021-06-03        735782          15452           390709875.0   \n",
              "2021-06-02        494007          11723           262092610.0   \n",
              "2021-06-01        501024          12404           267269691.0   \n",
              "2021-05-31        927325          19141           493781441.0   \n",
              "\n",
              "            Deliverable Quantity  % Deli. Qty to Traded Qty  Spread High-Low  \\\n",
              "Date                                                                           \n",
              "2021-06-04              398176.0                      60.15             4.50   \n",
              "2021-06-03              479872.0                      65.22             4.65   \n",
              "2021-06-02              273203.0                      55.30             6.50   \n",
              "2021-06-01              232077.0                      46.32             7.85   \n",
              "2021-05-31              549560.0                      59.26            10.40   \n",
              "\n",
              "            Spread Close-Open  \n",
              "Date                           \n",
              "2021-06-04              -2.10  \n",
              "2021-06-03               0.25  \n",
              "2021-06-02              -0.50  \n",
              "2021-06-01              -5.10  \n",
              "2021-05-31               9.15  "
            ]
          },
          "execution_count": 2,
          "metadata": {},
          "output_type": "execute_result"
        }
      ],
      "source": [
        "# Reading the data from Github\n",
        "df = pd.read_csv(\"BhartiAirtel.csv\", parse_dates = True, index_col = 'Date')\n",
        "df.head()"
      ]
    },
    {
      "cell_type": "code",
      "execution_count": 3,
      "metadata": {
        "colab": {
          "base_uri": "https://localhost:8080/",
          "height": 683
        },
        "id": "04w8MXbM8ykQ",
        "outputId": "40f9271e-6e78-4847-b6be-5422d299dfc5"
      },
      "outputs": [
        {
          "data": {
            "text/html": [
              "<div>\n",
              "<style scoped>\n",
              "    .dataframe tbody tr th:only-of-type {\n",
              "        vertical-align: middle;\n",
              "    }\n",
              "\n",
              "    .dataframe tbody tr th {\n",
              "        vertical-align: top;\n",
              "    }\n",
              "\n",
              "    .dataframe thead th {\n",
              "        text-align: right;\n",
              "    }\n",
              "</style>\n",
              "<table border=\"1\" class=\"dataframe\">\n",
              "  <thead>\n",
              "    <tr style=\"text-align: right;\">\n",
              "      <th></th>\n",
              "      <th>Open Price</th>\n",
              "      <th>High Price</th>\n",
              "      <th>Low Price</th>\n",
              "      <th>Close Price</th>\n",
              "      <th>WAP</th>\n",
              "      <th>No.of Shares</th>\n",
              "      <th>No. of Trades</th>\n",
              "      <th>Total Turnover (Rs.)</th>\n",
              "      <th>Deliverable Quantity</th>\n",
              "      <th>% Deli. Qty to Traded Qty</th>\n",
              "      <th>Spread High-Low</th>\n",
              "      <th>Spread Close-Open</th>\n",
              "    </tr>\n",
              "    <tr>\n",
              "      <th>Date</th>\n",
              "      <th></th>\n",
              "      <th></th>\n",
              "      <th></th>\n",
              "      <th></th>\n",
              "      <th></th>\n",
              "      <th></th>\n",
              "      <th></th>\n",
              "      <th></th>\n",
              "      <th></th>\n",
              "      <th></th>\n",
              "      <th></th>\n",
              "      <th></th>\n",
              "    </tr>\n",
              "  </thead>\n",
              "  <tbody>\n",
              "    <tr>\n",
              "      <th>2011-01-18</th>\n",
              "      <td>349.95</td>\n",
              "      <td>351.00</td>\n",
              "      <td>343.35</td>\n",
              "      <td>344.50</td>\n",
              "      <td>345.822203</td>\n",
              "      <td>230442</td>\n",
              "      <td>2663</td>\n",
              "      <td>79691960.0</td>\n",
              "      <td>105836.0</td>\n",
              "      <td>45.93</td>\n",
              "      <td>7.65</td>\n",
              "      <td>-5.45</td>\n",
              "    </tr>\n",
              "    <tr>\n",
              "      <th>2011-01-17</th>\n",
              "      <td>344.00</td>\n",
              "      <td>351.00</td>\n",
              "      <td>339.50</td>\n",
              "      <td>347.60</td>\n",
              "      <td>346.616993</td>\n",
              "      <td>334965</td>\n",
              "      <td>5851</td>\n",
              "      <td>116104561.0</td>\n",
              "      <td>107263.0</td>\n",
              "      <td>32.02</td>\n",
              "      <td>11.50</td>\n",
              "      <td>3.60</td>\n",
              "    </tr>\n",
              "    <tr>\n",
              "      <th>2011-01-14</th>\n",
              "      <td>348.00</td>\n",
              "      <td>351.25</td>\n",
              "      <td>341.10</td>\n",
              "      <td>342.70</td>\n",
              "      <td>345.877050</td>\n",
              "      <td>188149</td>\n",
              "      <td>3493</td>\n",
              "      <td>65076421.0</td>\n",
              "      <td>32092.0</td>\n",
              "      <td>17.06</td>\n",
              "      <td>10.15</td>\n",
              "      <td>-5.30</td>\n",
              "    </tr>\n",
              "    <tr>\n",
              "      <th>2011-01-13</th>\n",
              "      <td>346.95</td>\n",
              "      <td>354.00</td>\n",
              "      <td>344.20</td>\n",
              "      <td>346.05</td>\n",
              "      <td>348.330062</td>\n",
              "      <td>228381</td>\n",
              "      <td>3336</td>\n",
              "      <td>79551968.0</td>\n",
              "      <td>53225.0</td>\n",
              "      <td>23.31</td>\n",
              "      <td>9.80</td>\n",
              "      <td>-0.90</td>\n",
              "    </tr>\n",
              "    <tr>\n",
              "      <th>2011-01-12</th>\n",
              "      <td>341.50</td>\n",
              "      <td>350.70</td>\n",
              "      <td>336.30</td>\n",
              "      <td>348.50</td>\n",
              "      <td>344.467723</td>\n",
              "      <td>298839</td>\n",
              "      <td>4387</td>\n",
              "      <td>102940390.0</td>\n",
              "      <td>67771.0</td>\n",
              "      <td>22.68</td>\n",
              "      <td>14.40</td>\n",
              "      <td>7.00</td>\n",
              "    </tr>\n",
              "    <tr>\n",
              "      <th>2011-01-11</th>\n",
              "      <td>339.25</td>\n",
              "      <td>346.70</td>\n",
              "      <td>334.40</td>\n",
              "      <td>339.20</td>\n",
              "      <td>339.511048</td>\n",
              "      <td>254303</td>\n",
              "      <td>4158</td>\n",
              "      <td>86338678.0</td>\n",
              "      <td>57824.0</td>\n",
              "      <td>22.74</td>\n",
              "      <td>12.30</td>\n",
              "      <td>-0.05</td>\n",
              "    </tr>\n",
              "    <tr>\n",
              "      <th>2011-01-10</th>\n",
              "      <td>340.50</td>\n",
              "      <td>343.65</td>\n",
              "      <td>335.10</td>\n",
              "      <td>338.85</td>\n",
              "      <td>340.631195</td>\n",
              "      <td>222866</td>\n",
              "      <td>3687</td>\n",
              "      <td>75915112.0</td>\n",
              "      <td>41257.0</td>\n",
              "      <td>18.51</td>\n",
              "      <td>8.55</td>\n",
              "      <td>-1.65</td>\n",
              "    </tr>\n",
              "    <tr>\n",
              "      <th>2011-01-07</th>\n",
              "      <td>353.90</td>\n",
              "      <td>354.75</td>\n",
              "      <td>335.00</td>\n",
              "      <td>338.70</td>\n",
              "      <td>342.594042</td>\n",
              "      <td>358515</td>\n",
              "      <td>5778</td>\n",
              "      <td>122825103.0</td>\n",
              "      <td>73576.0</td>\n",
              "      <td>20.52</td>\n",
              "      <td>19.75</td>\n",
              "      <td>-15.20</td>\n",
              "    </tr>\n",
              "    <tr>\n",
              "      <th>2011-01-06</th>\n",
              "      <td>351.00</td>\n",
              "      <td>355.35</td>\n",
              "      <td>351.00</td>\n",
              "      <td>353.25</td>\n",
              "      <td>353.230604</td>\n",
              "      <td>196241</td>\n",
              "      <td>2516</td>\n",
              "      <td>69318327.0</td>\n",
              "      <td>41231.0</td>\n",
              "      <td>21.01</td>\n",
              "      <td>4.35</td>\n",
              "      <td>2.25</td>\n",
              "    </tr>\n",
              "    <tr>\n",
              "      <th>2011-01-05</th>\n",
              "      <td>353.90</td>\n",
              "      <td>355.70</td>\n",
              "      <td>348.35</td>\n",
              "      <td>349.90</td>\n",
              "      <td>351.481252</td>\n",
              "      <td>172421</td>\n",
              "      <td>2552</td>\n",
              "      <td>60602749.0</td>\n",
              "      <td>43428.0</td>\n",
              "      <td>25.19</td>\n",
              "      <td>7.35</td>\n",
              "      <td>-4.00</td>\n",
              "    </tr>\n",
              "    <tr>\n",
              "      <th>2011-01-04</th>\n",
              "      <td>361.00</td>\n",
              "      <td>361.75</td>\n",
              "      <td>353.10</td>\n",
              "      <td>355.30</td>\n",
              "      <td>359.347771</td>\n",
              "      <td>510966</td>\n",
              "      <td>3163</td>\n",
              "      <td>183614493.0</td>\n",
              "      <td>364759.0</td>\n",
              "      <td>71.39</td>\n",
              "      <td>8.65</td>\n",
              "      <td>-5.70</td>\n",
              "    </tr>\n",
              "    <tr>\n",
              "      <th>2011-01-03</th>\n",
              "      <td>358.40</td>\n",
              "      <td>364.90</td>\n",
              "      <td>354.50</td>\n",
              "      <td>359.35</td>\n",
              "      <td>360.257123</td>\n",
              "      <td>316463</td>\n",
              "      <td>5263</td>\n",
              "      <td>114008050.0</td>\n",
              "      <td>82793.0</td>\n",
              "      <td>26.16</td>\n",
              "      <td>10.40</td>\n",
              "      <td>0.95</td>\n",
              "    </tr>\n",
              "  </tbody>\n",
              "</table>\n",
              "</div>"
            ],
            "text/plain": [
              "            Open Price  High Price  Low Price  Close Price         WAP  \\\n",
              "Date                                                                     \n",
              "2011-01-18      349.95      351.00     343.35       344.50  345.822203   \n",
              "2011-01-17      344.00      351.00     339.50       347.60  346.616993   \n",
              "2011-01-14      348.00      351.25     341.10       342.70  345.877050   \n",
              "2011-01-13      346.95      354.00     344.20       346.05  348.330062   \n",
              "2011-01-12      341.50      350.70     336.30       348.50  344.467723   \n",
              "2011-01-11      339.25      346.70     334.40       339.20  339.511048   \n",
              "2011-01-10      340.50      343.65     335.10       338.85  340.631195   \n",
              "2011-01-07      353.90      354.75     335.00       338.70  342.594042   \n",
              "2011-01-06      351.00      355.35     351.00       353.25  353.230604   \n",
              "2011-01-05      353.90      355.70     348.35       349.90  351.481252   \n",
              "2011-01-04      361.00      361.75     353.10       355.30  359.347771   \n",
              "2011-01-03      358.40      364.90     354.50       359.35  360.257123   \n",
              "\n",
              "            No.of Shares  No. of Trades  Total Turnover (Rs.)  \\\n",
              "Date                                                            \n",
              "2011-01-18        230442           2663            79691960.0   \n",
              "2011-01-17        334965           5851           116104561.0   \n",
              "2011-01-14        188149           3493            65076421.0   \n",
              "2011-01-13        228381           3336            79551968.0   \n",
              "2011-01-12        298839           4387           102940390.0   \n",
              "2011-01-11        254303           4158            86338678.0   \n",
              "2011-01-10        222866           3687            75915112.0   \n",
              "2011-01-07        358515           5778           122825103.0   \n",
              "2011-01-06        196241           2516            69318327.0   \n",
              "2011-01-05        172421           2552            60602749.0   \n",
              "2011-01-04        510966           3163           183614493.0   \n",
              "2011-01-03        316463           5263           114008050.0   \n",
              "\n",
              "            Deliverable Quantity  % Deli. Qty to Traded Qty  Spread High-Low  \\\n",
              "Date                                                                           \n",
              "2011-01-18              105836.0                      45.93             7.65   \n",
              "2011-01-17              107263.0                      32.02            11.50   \n",
              "2011-01-14               32092.0                      17.06            10.15   \n",
              "2011-01-13               53225.0                      23.31             9.80   \n",
              "2011-01-12               67771.0                      22.68            14.40   \n",
              "2011-01-11               57824.0                      22.74            12.30   \n",
              "2011-01-10               41257.0                      18.51             8.55   \n",
              "2011-01-07               73576.0                      20.52            19.75   \n",
              "2011-01-06               41231.0                      21.01             4.35   \n",
              "2011-01-05               43428.0                      25.19             7.35   \n",
              "2011-01-04              364759.0                      71.39             8.65   \n",
              "2011-01-03               82793.0                      26.16            10.40   \n",
              "\n",
              "            Spread Close-Open  \n",
              "Date                           \n",
              "2011-01-18              -5.45  \n",
              "2011-01-17               3.60  \n",
              "2011-01-14              -5.30  \n",
              "2011-01-13              -0.90  \n",
              "2011-01-12               7.00  \n",
              "2011-01-11              -0.05  \n",
              "2011-01-10              -1.65  \n",
              "2011-01-07             -15.20  \n",
              "2011-01-06               2.25  \n",
              "2011-01-05              -4.00  \n",
              "2011-01-04              -5.70  \n",
              "2011-01-03               0.95  "
            ]
          },
          "execution_count": 3,
          "metadata": {},
          "output_type": "execute_result"
        }
      ],
      "source": [
        "df.tail(12)"
      ]
    },
    {
      "cell_type": "code",
      "execution_count": 4,
      "metadata": {
        "colab": {
          "base_uri": "https://localhost:8080/"
        },
        "id": "shGkbIPGp6X9",
        "outputId": "f0055edc-2d96-499d-e79b-c11c685fdd6f"
      },
      "outputs": [
        {
          "name": "stdout",
          "output_type": "stream",
          "text": [
            "<class 'pandas.core.frame.DataFrame'>\n",
            "DatetimeIndex: 2582 entries, 2021-06-04 to 2011-01-03\n",
            "Data columns (total 12 columns):\n",
            " #   Column                     Non-Null Count  Dtype  \n",
            "---  ------                     --------------  -----  \n",
            " 0   Open Price                 2582 non-null   float64\n",
            " 1   High Price                 2582 non-null   float64\n",
            " 2   Low Price                  2582 non-null   float64\n",
            " 3   Close Price                2582 non-null   float64\n",
            " 4   WAP                        2582 non-null   float64\n",
            " 5   No.of Shares               2582 non-null   int64  \n",
            " 6   No. of Trades              2582 non-null   int64  \n",
            " 7   Total Turnover (Rs.)       2582 non-null   float64\n",
            " 8   Deliverable Quantity       2581 non-null   float64\n",
            " 9   % Deli. Qty to Traded Qty  2581 non-null   float64\n",
            " 10  Spread High-Low            2582 non-null   float64\n",
            " 11  Spread Close-Open          2582 non-null   float64\n",
            "dtypes: float64(10), int64(2)\n",
            "memory usage: 262.2 KB\n"
          ]
        }
      ],
      "source": [
        "df.info()"
      ]
    },
    {
      "cell_type": "code",
      "execution_count": 5,
      "metadata": {
        "colab": {
          "base_uri": "https://localhost:8080/",
          "height": 504
        },
        "id": "bPD7w8yjprcY",
        "outputId": "46e0e572-2080-4074-9e5c-54d9a59a9924"
      },
      "outputs": [
        {
          "data": {
            "image/png": "[encoded data removed]",
            "text/plain": [
              "<Figure size 1000x600 with 1 Axes>"
            ]
          },
          "metadata": {},
          "output_type": "display_data"
        }
      ],
      "source": [
        "#lets plot the close price plot\n",
        "plt.figure(figsize = (10,6))\n",
        "df['Close Price'].plot()\n",
        "plt.show()"
      ]
    },
    {
      "cell_type": "code",
      "execution_count": 6,
      "metadata": {
        "id": "nNnNHt7tpNM7"
      },
      "outputs": [],
      "source": [
        "airtel_close = df['Close Price']"
      ]
    },
    {
      "cell_type": "code",
      "execution_count": 7,
      "metadata": {
        "colab": {
          "base_uri": "https://localhost:8080/"
        },
        "id": "7jGt6t1CqWVk",
        "outputId": "81c9625b-43e2-4e28-df2c-ee3637887db6"
      },
      "outputs": [
        {
          "data": {
            "text/plain": [
              "Date\n",
              "2021-06-04    532.70\n",
              "2021-06-03    532.10\n",
              "2021-06-02    529.60\n",
              "2021-06-01    532.90\n",
              "2021-05-31    534.95\n",
              "               ...  \n",
              "2011-01-07    338.70\n",
              "2011-01-06    353.25\n",
              "2011-01-05    349.90\n",
              "2011-01-04    355.30\n",
              "2011-01-03    359.35\n",
              "Name: Close Price, Length: 2582, dtype: float64"
            ]
          },
          "execution_count": 7,
          "metadata": {},
          "output_type": "execute_result"
        }
      ],
      "source": [
        "airtel_close"
      ]
    },
    {
      "cell_type": "markdown",
      "metadata": {
        "id": "oSQQeUKtqbpa"
      },
      "source": [
        "**I dont want date hence i have to drop it**"
      ]
    },
    {
      "cell_type": "code",
      "execution_count": 8,
      "metadata": {
        "colab": {
          "base_uri": "https://localhost:8080/"
        },
        "id": "cxqB0opSqZkz",
        "outputId": "4350626f-537c-42d3-e2e8-cf9b6b178a1c"
      },
      "outputs": [
        {
          "data": {
            "text/plain": [
              "0       532.70\n",
              "1       532.10\n",
              "2       529.60\n",
              "3       532.90\n",
              "4       534.95\n",
              "         ...  \n",
              "2577    338.70\n",
              "2578    353.25\n",
              "2579    349.90\n",
              "2580    355.30\n",
              "2581    359.35\n",
              "Name: Close Price, Length: 2582, dtype: float64"
            ]
          },
          "execution_count": 8,
          "metadata": {},
          "output_type": "execute_result"
        }
      ],
      "source": [
        "airtel_close.reset_index(drop = True, inplace = True)\n",
        "airtel_close"
      ]
    },
    {
      "cell_type": "code",
      "execution_count": 9,
      "metadata": {
        "colab": {
          "base_uri": "https://localhost:8080/"
        },
        "id": "_BR2wPh4qyjX",
        "outputId": "d849f78e-94a8-4afb-87d5-2df419662a11"
      },
      "outputs": [
        {
          "data": {
            "text/plain": [
              "(2582,)"
            ]
          },
          "execution_count": 9,
          "metadata": {},
          "output_type": "execute_result"
        }
      ],
      "source": [
        "airtel_close.shape"
      ]
    },
    {
      "cell_type": "markdown",
      "metadata": {
        "id": "NLJwJ0MQrHzz"
      },
      "source": [
        "**Making airtel_close a dataframe**"
      ]
    },
    {
      "cell_type": "code",
      "execution_count": 10,
      "metadata": {
        "colab": {
          "base_uri": "https://localhost:8080/"
        },
        "id": "jgZxmqB-q1uy",
        "outputId": "a8d22b9b-654c-4d36-d3a1-624e4afefb74"
      },
      "outputs": [
        {
          "data": {
            "text/plain": [
              "(2582, 1)"
            ]
          },
          "execution_count": 10,
          "metadata": {},
          "output_type": "execute_result"
        }
      ],
      "source": [
        "airtel_close = pd.DataFrame(airtel_close)\n",
        "airtel_close.shape"
      ]
    },
    {
      "cell_type": "markdown",
      "metadata": {
        "id": "ATFTuZ6OYw75"
      },
      "source": [
        "**Defining test and training data**"
      ]
    },
    {
      "cell_type": "code",
      "execution_count": 11,
      "metadata": {
        "id": "qI5WLJ8JrMzv"
      },
      "outputs": [],
      "source": [
        "train = airtel_close.iloc[:2570]\n",
        "test = airtel_close.iloc[2570:]"
      ]
    },
    {
      "cell_type": "markdown",
      "metadata": {
        "id": "r8Cb3jlQr3kC"
      },
      "source": [
        "**Scaling the data with min max scaler**"
      ]
    },
    {
      "cell_type": "code",
      "execution_count": 12,
      "metadata": {
        "id": "6mRMDIiurxN-"
      },
      "outputs": [],
      "source": [
        "from sklearn.preprocessing import MinMaxScaler\n",
        "scaler = MinMaxScaler()"
      ]
    },
    {
      "cell_type": "code",
      "execution_count": 13,
      "metadata": {
        "id": "tIIY5AHwsGBM"
      },
      "outputs": [],
      "source": [
        "scaled_train = scaler.fit_transform(train)\n",
        "scaled_test = scaler.transform(train)"
      ]
    },
    {
      "cell_type": "markdown",
      "metadata": {
        "id": "-mHRtLlEtEwA"
      },
      "source": [
        "**Importing Time Series Generator from tensorflow keras**"
      ]
    },
    {
      "cell_type": "code",
      "execution_count": 14,
      "metadata": {
        "id": "SiYRQKgBsKTa"
      },
      "outputs": [],
      "source": [
        "from tensorflow.keras.preprocessing.sequence import TimeseriesGenerator"
      ]
    },
    {
      "cell_type": "markdown",
      "metadata": {
        "id": "9mxgWfNZw7wV"
      },
      "source": [
        "## **Creating a model**"
      ]
    },
    {
      "cell_type": "code",
      "execution_count": 15,
      "metadata": {
        "colab": {
          "base_uri": "https://localhost:8080/"
        },
        "id": "WgdPL4c0xNmz",
        "outputId": "e4b6463a-b288-4f6a-db9d-19a4bfaa17d4"
      },
      "outputs": [
        {
          "data": {
            "text/plain": [
              "(12, 1)"
            ]
          },
          "execution_count": 15,
          "metadata": {},
          "output_type": "execute_result"
        }
      ],
      "source": [
        "test.shape"
      ]
    },
    {
      "cell_type": "code",
      "execution_count": 16,
      "metadata": {
        "colab": {
          "base_uri": "https://localhost:8080/"
        },
        "id": "nG6oKtMcxNku",
        "outputId": "41079ec6-10a2-42ab-f26b-5cb7332bd0ed"
      },
      "outputs": [
        {
          "data": {
            "text/plain": [
              "(2570, 1)"
            ]
          },
          "execution_count": 16,
          "metadata": {},
          "output_type": "execute_result"
        }
      ],
      "source": [
        "train.shape"
      ]
    },
    {
      "cell_type": "code",
      "execution_count": 17,
      "metadata": {
        "id": "Sfleyn_5xNin"
      },
      "outputs": [],
      "source": [
        "generator = TimeseriesGenerator(scaled_train, scaled_train, length = 12, batch_size = 32)"
      ]
    },
    {
      "cell_type": "markdown",
      "metadata": {
        "id": "zkW8lNoNyOMx"
      },
      "source": [
        "**Importing deep learning packages**"
      ]
    },
    {
      "cell_type": "code",
      "execution_count": 18,
      "metadata": {
        "id": "8cUnJLJuyA7S"
      },
      "outputs": [],
      "source": [
        "from tensorflow.keras.models import Sequential\n",
        "from tensorflow.keras.layers import Dense, SimpleRNN, LSTM, Dropout"
      ]
    },
    {
      "cell_type": "code",
      "execution_count": 19,
      "metadata": {
        "id": "nljz8MjxrXTX"
      },
      "outputs": [],
      "source": [
        "n_feature = 1"
      ]
    },
    {
      "cell_type": "markdown",
      "metadata": {
        "id": "kAOEgSQofqYF"
      },
      "source": [
        "**Defining the hidden layers**"
      ]
    },
    {
      "cell_type": "code",
      "execution_count": 20,
      "metadata": {
        "id": "6eZ7gdpNsAyd"
      },
      "outputs": [],
      "source": [
        "model = Sequential()\n",
        "model.add(SimpleRNN(32, input_shape = (12, n_feature)))\n",
        "model.add(Dropout(rate = 0.2))\n",
        "model.add(Dense(1))\n",
        "model.compile(optimizer = 'adam', loss = 'mse')"
      ]
    },
    {
      "cell_type": "code",
      "execution_count": 21,
      "metadata": {
        "colab": {
          "base_uri": "https://localhost:8080/"
        },
        "id": "Br1pSsKQst9T",
        "outputId": "4634a470-7478-499b-ee07-fe7ac1af52db"
      },
      "outputs": [
        {
          "data": {
            "text/html": [
              "<pre style=\"white-space:pre;overflow-x:auto;line-height:normal;font-family:Menlo,'DejaVu Sans Mono',consolas,'Courier New',monospace\"><span style=\"font-weight: bold\">Model: \"sequential\"</span>\n",
              "</pre>\n"
            ],
            "text/plain": [
              "\u001b[1mModel: \"sequential\"\u001b[0m\n"
            ]
          },
          "metadata": {},
          "output_type": "display_data"
        },
        {
          "data": {
            "text/html": [
              "<pre style=\"white-space:pre;overflow-x:auto;line-height:normal;font-family:Menlo,'DejaVu Sans Mono',consolas,'Courier New',monospace\">┏━━━━━━━━━━━━━━━━━━━━━━━━━━━━━━━━━┳━━━━━━━━━━━━━━━━━━━━━━━━┳━━━━━━━━━━━━━━━┓\n",
              "┃<span style=\"font-weight: bold\"> Layer (type)                    </span>┃<span style=\"font-weight: bold\"> Output Shape           </span>┃<span style=\"font-weight: bold\">       Param # </span>┃\n",
              "┡━━━━━━━━━━━━━━━━━━━━━━━━━━━━━━━━━╇━━━━━━━━━━━━━━━━━━━━━━━━╇━━━━━━━━━━━━━━━┩\n",
              "│ simple_rnn (<span style=\"color: #0087ff; text-decoration-color: #0087ff\">SimpleRNN</span>)          │ (<span style=\"color: #00d7ff; text-decoration-color: #00d7ff\">None</span>, <span style=\"color: #00af00; text-decoration-color: #00af00\">32</span>)             │         <span style=\"color: #00af00; text-decoration-color: #00af00\">1,088</span> │\n",
              "├─────────────────────────────────┼────────────────────────┼───────────────┤\n",
              "│ dropout (<span style=\"color: #0087ff; text-decoration-color: #0087ff\">Dropout</span>)               │ (<span style=\"color: #00d7ff; text-decoration-color: #00d7ff\">None</span>, <span style=\"color: #00af00; text-decoration-color: #00af00\">32</span>)             │             <span style=\"color: #00af00; text-decoration-color: #00af00\">0</span> │\n",
              "├─────────────────────────────────┼────────────────────────┼───────────────┤\n",
              "│ dense (<span style=\"color: #0087ff; text-decoration-color: #0087ff\">Dense</span>)                   │ (<span style=\"color: #00d7ff; text-decoration-color: #00d7ff\">None</span>, <span style=\"color: #00af00; text-decoration-color: #00af00\">1</span>)              │            <span style=\"color: #00af00; text-decoration-color: #00af00\">33</span> │\n",
              "└─────────────────────────────────┴────────────────────────┴───────────────┘\n",
              "</pre>\n"
            ],
            "text/plain": [
              "┏━━━━━━━━━━━━━━━━━━━━━━━━━━━━━━━━━┳━━━━━━━━━━━━━━━━━━━━━━━━┳━━━━━━━━━━━━━━━┓\n",
              "┃\u001b[1m \u001b[0m\u001b[1mLayer (type)                   \u001b[0m\u001b[1m \u001b[0m┃\u001b[1m \u001b[0m\u001b[1mOutput Shape          \u001b[0m\u001b[1m \u001b[0m┃\u001b[1m \u001b[0m\u001b[1m      Param #\u001b[0m\u001b[1m \u001b[0m┃\n",
              "┡━━━━━━━━━━━━━━━━━━━━━━━━━━━━━━━━━╇━━━━━━━━━━━━━━━━━━━━━━━━╇━━━━━━━━━━━━━━━┩\n",
              "│ simple_rnn (\u001b[38;5;33mSimpleRNN\u001b[0m)          │ (\u001b[38;5;45mNone\u001b[0m, \u001b[38;5;34m32\u001b[0m)             │         \u001b[38;5;34m1,088\u001b[0m │\n",
              "├─────────────────────────────────┼────────────────────────┼───────────────┤\n",
              "│ dropout (\u001b[38;5;33mDropout\u001b[0m)               │ (\u001b[38;5;45mNone\u001b[0m, \u001b[38;5;34m32\u001b[0m)             │             \u001b[38;5;34m0\u001b[0m │\n",
              "├─────────────────────────────────┼────────────────────────┼───────────────┤\n",
              "│ dense (\u001b[38;5;33mDense\u001b[0m)                   │ (\u001b[38;5;45mNone\u001b[0m, \u001b[38;5;34m1\u001b[0m)              │            \u001b[38;5;34m33\u001b[0m │\n",
              "└─────────────────────────────────┴────────────────────────┴───────────────┘\n"
            ]
          },
          "metadata": {},
          "output_type": "display_data"
        },
        {
          "data": {
            "text/html": [
              "<pre style=\"white-space:pre;overflow-x:auto;line-height:normal;font-family:Menlo,'DejaVu Sans Mono',consolas,'Courier New',monospace\"><span style=\"font-weight: bold\"> Total params: </span><span style=\"color: #00af00; text-decoration-color: #00af00\">1,121</span> (4.38 KB)\n",
              "</pre>\n"
            ],
            "text/plain": [
              "\u001b[1m Total params: \u001b[0m\u001b[38;5;34m1,121\u001b[0m (4.38 KB)\n"
            ]
          },
          "metadata": {},
          "output_type": "display_data"
        },
        {
          "data": {
            "text/html": [
              "<pre style=\"white-space:pre;overflow-x:auto;line-height:normal;font-family:Menlo,'DejaVu Sans Mono',consolas,'Courier New',monospace\"><span style=\"font-weight: bold\"> Trainable params: </span><span style=\"color: #00af00; text-decoration-color: #00af00\">1,121</span> (4.38 KB)\n",
              "</pre>\n"
            ],
            "text/plain": [
              "\u001b[1m Trainable params: \u001b[0m\u001b[38;5;34m1,121\u001b[0m (4.38 KB)\n"
            ]
          },
          "metadata": {},
          "output_type": "display_data"
        },
        {
          "data": {
            "text/html": [
              "<pre style=\"white-space:pre;overflow-x:auto;line-height:normal;font-family:Menlo,'DejaVu Sans Mono',consolas,'Courier New',monospace\"><span style=\"font-weight: bold\"> Non-trainable params: </span><span style=\"color: #00af00; text-decoration-color: #00af00\">0</span> (0.00 B)\n",
              "</pre>\n"
            ],
            "text/plain": [
              "\u001b[1m Non-trainable params: \u001b[0m\u001b[38;5;34m0\u001b[0m (0.00 B)\n"
            ]
          },
          "metadata": {},
          "output_type": "display_data"
        }
      ],
      "source": [
        "model.summary()"
      ]
    },
    {
      "cell_type": "markdown",
      "metadata": {
        "id": "45lcCsXkvsbe"
      },
      "source": [
        "**Evaluating Test Set**"
      ]
    },
    {
      "cell_type": "code",
      "execution_count": 24,
      "metadata": {
        "colab": {
          "base_uri": "https://localhost:8080/"
        },
        "id": "9rsSjGSiutnw",
        "outputId": "b34c19a6-b289-4e7a-dc24-9d917421f363"
      },
      "outputs": [
        {
          "data": {
            "text/plain": [
              "array([[0.24420191],\n",
              "       [0.26603001],\n",
              "       [0.22087312],\n",
              "       [0.19727149],\n",
              "       [0.20804911],\n",
              "       [0.2313779 ],\n",
              "       [0.22742156],\n",
              "       [0.2579809 ],\n",
              "       [0.24979536],\n",
              "       [0.25729877],\n",
              "       [0.26739427],\n",
              "       [0.27762619]])"
            ]
          },
          "execution_count": 24,
          "metadata": {},
          "output_type": "execute_result"
        }
      ],
      "source": [
        "first_eval_batch = scaled_train[-12:]\n",
        "first_eval_batch"
      ]
    },
    {
      "cell_type": "code",
      "execution_count": 25,
      "metadata": {
        "colab": {
          "base_uri": "https://localhost:8080/"
        },
        "id": "lmDalwmzuyeK",
        "outputId": "7cc1faf9-f7cb-428d-acda-5b667f94d746"
      },
      "outputs": [
        {
          "data": {
            "text/plain": [
              "array([[[0.24420191],\n",
              "        [0.26603001],\n",
              "        [0.22087312],\n",
              "        [0.19727149],\n",
              "        [0.20804911],\n",
              "        [0.2313779 ],\n",
              "        [0.22742156],\n",
              "        [0.2579809 ],\n",
              "        [0.24979536],\n",
              "        [0.25729877],\n",
              "        [0.26739427],\n",
              "        [0.27762619]]])"
            ]
          },
          "execution_count": 25,
          "metadata": {},
          "output_type": "execute_result"
        }
      ],
      "source": [
        "first_eval_batch = first_eval_batch.reshape(1,12,1)\n",
        "first_eval_batch"
      ]
    },
    {
      "cell_type": "code",
      "execution_count": 26,
      "metadata": {
        "colab": {
          "base_uri": "https://localhost:8080/"
        },
        "id": "w1ljj1XEwpPt",
        "outputId": "af5c63ba-8196-4a67-ad9d-8df0950dd3dd"
      },
      "outputs": [
        {
          "name": "stdout",
          "output_type": "stream",
          "text": [
            "\u001b[1m1/1\u001b[0m \u001b[32m━━━━━━━━━━━━━━━━━━━━\u001b[0m\u001b[37m\u001b[0m \u001b[1m0s\u001b[0m 68ms/step\n"
          ]
        },
        {
          "data": {
            "text/plain": [
              "array([[0.3989632]], dtype=float32)"
            ]
          },
          "execution_count": 26,
          "metadata": {},
          "output_type": "execute_result"
        }
      ],
      "source": [
        "model.predict(first_eval_batch)"
      ]
    },
    {
      "cell_type": "code",
      "execution_count": 27,
      "metadata": {
        "colab": {
          "base_uri": "https://localhost:8080/"
        },
        "id": "dKMEzFoWxDQS",
        "outputId": "95ac6a84-d574-4c31-87d3-e6cbb6ba753c"
      },
      "outputs": [
        {
          "name": "stdout",
          "output_type": "stream",
          "text": [
            "\u001b[1m1/1\u001b[0m \u001b[32m━━━━━━━━━━━━━━━━━━━━\u001b[0m\u001b[37m\u001b[0m \u001b[1m0s\u001b[0m 14ms/step\n",
            "\u001b[1m1/1\u001b[0m \u001b[32m━━━━━━━━━━━━━━━━━━━━\u001b[0m\u001b[37m\u001b[0m \u001b[1m0s\u001b[0m 11ms/step\n",
            "\u001b[1m1/1\u001b[0m \u001b[32m━━━━━━━━━━━━━━━━━━━━\u001b[0m\u001b[37m\u001b[0m \u001b[1m0s\u001b[0m 9ms/step\n",
            "\u001b[1m1/1\u001b[0m \u001b[32m━━━━━━━━━━━━━━━━━━━━\u001b[0m\u001b[37m\u001b[0m \u001b[1m0s\u001b[0m 10ms/step\n",
            "\u001b[1m1/1\u001b[0m \u001b[32m━━━━━━━━━━━━━━━━━━━━\u001b[0m\u001b[37m\u001b[0m \u001b[1m0s\u001b[0m 9ms/step\n",
            "\u001b[1m1/1\u001b[0m \u001b[32m━━━━━━━━━━━━━━━━━━━━\u001b[0m\u001b[37m\u001b[0m \u001b[1m0s\u001b[0m 10ms/step\n",
            "\u001b[1m1/1\u001b[0m \u001b[32m━━━━━━━━━━━━━━━━━━━━\u001b[0m\u001b[37m\u001b[0m \u001b[1m0s\u001b[0m 9ms/step\n",
            "\u001b[1m1/1\u001b[0m \u001b[32m━━━━━━━━━━━━━━━━━━━━\u001b[0m\u001b[37m\u001b[0m \u001b[1m0s\u001b[0m 10ms/step\n",
            "\u001b[1m1/1\u001b[0m \u001b[32m━━━━━━━━━━━━━━━━━━━━\u001b[0m\u001b[37m\u001b[0m \u001b[1m0s\u001b[0m 9ms/step\n",
            "\u001b[1m1/1\u001b[0m \u001b[32m━━━━━━━━━━━━━━━━━━━━\u001b[0m\u001b[37m\u001b[0m \u001b[1m0s\u001b[0m 11ms/step\n",
            "\u001b[1m1/1\u001b[0m \u001b[32m━━━━━━━━━━━━━━━━━━━━\u001b[0m\u001b[37m\u001b[0m \u001b[1m0s\u001b[0m 9ms/step\n",
            "\u001b[1m1/1\u001b[0m \u001b[32m━━━━━━━━━━━━━━━━━━━━\u001b[0m\u001b[37m\u001b[0m \u001b[1m0s\u001b[0m 10ms/step\n"
          ]
        }
      ],
      "source": [
        "test_predictions = []\n",
        "\n",
        "first_eval_batch = scaled_train[-12:]\n",
        "current_batch = first_eval_batch.reshape((1, 12,n_feature))\n",
        "\n",
        "for i in range(len(test)):\n",
        "\n",
        "  # get prediction 1 time stamp ahead ([0] is for grabbing just the number instead of [array])\n",
        "  current_pred = model.predict(current_batch)[0]\n",
        "\n",
        "  # Store Prediction\n",
        "  test_predictions.append(current_pred)\n",
        "\n",
        "  # update batch to now include prediction and drop first value\n",
        "  current_batch = np. append (current_batch[:,1:,:],[[current_pred]],axis=1)"
      ]
    },
    {
      "cell_type": "code",
      "execution_count": 28,
      "metadata": {
        "colab": {
          "base_uri": "https://localhost:8080/"
        },
        "id": "cpHltfRMIIbF",
        "outputId": "87f2a76e-c09e-4a96-ff07-801c05edd8ec"
      },
      "outputs": [
        {
          "data": {
            "text/plain": [
              "[array([0.3989632], dtype=float32),\n",
              " array([0.4085404], dtype=float32),\n",
              " array([0.39997768], dtype=float32),\n",
              " array([0.40307328], dtype=float32),\n",
              " array([0.39953062], dtype=float32),\n",
              " array([0.44302228], dtype=float32),\n",
              " array([0.4673674], dtype=float32),\n",
              " array([0.45866022], dtype=float32),\n",
              " array([0.46400508], dtype=float32),\n",
              " array([0.4510943], dtype=float32),\n",
              " array([0.43844467], dtype=float32),\n",
              " array([0.4791926], dtype=float32)]"
            ]
          },
          "execution_count": 28,
          "metadata": {},
          "output_type": "execute_result"
        }
      ],
      "source": [
        "test_predictions"
      ]
    },
    {
      "cell_type": "markdown",
      "metadata": {
        "id": "gyc6AupTIWNP"
      },
      "source": [
        "**Bringing back the scaled output using inverse scaling**"
      ]
    },
    {
      "cell_type": "code",
      "execution_count": 29,
      "metadata": {
        "colab": {
          "base_uri": "https://localhost:8080/"
        },
        "id": "zZ3_sl0DIPyI",
        "outputId": "7b5b8aa4-50c0-4444-d02a-972be25e8821"
      },
      "outputs": [
        {
          "data": {
            "text/plain": [
              "array([[388.52001755],\n",
              "       [392.03005582],\n",
              "       [388.89182119],\n",
              "       [390.0263575 ],\n",
              "       [388.727972  ],\n",
              "       [404.66766596],\n",
              "       [413.59015601],\n",
              "       [410.39896885],\n",
              "       [412.35786286],\n",
              "       [407.62606079],\n",
              "       [402.98997303],\n",
              "       [417.92409323]])"
            ]
          },
          "execution_count": 29,
          "metadata": {},
          "output_type": "execute_result"
        }
      ],
      "source": [
        "true_prediction = scaler.inverse_transform(test_predictions)\n",
        "true_prediction"
      ]
    },
    {
      "cell_type": "code",
      "execution_count": 30,
      "metadata": {
        "id": "hACJHzzsIn4k"
      },
      "outputs": [],
      "source": [
        "test['Prediction'] = true_prediction\n",
        "test['Difference'] = test['Close Price'] - test['Prediction']"
      ]
    },
    {
      "cell_type": "code",
      "execution_count": 31,
      "metadata": {
        "colab": {
          "base_uri": "https://localhost:8080/",
          "height": 426
        },
        "id": "Zj3DX1GVJLtC",
        "outputId": "141270a9-c62f-4317-e8a1-564e80859709"
      },
      "outputs": [
        {
          "data": {
            "text/html": [
              "<div>\n",
              "<style scoped>\n",
              "    .dataframe tbody tr th:only-of-type {\n",
              "        vertical-align: middle;\n",
              "    }\n",
              "\n",
              "    .dataframe tbody tr th {\n",
              "        vertical-align: top;\n",
              "    }\n",
              "\n",
              "    .dataframe thead th {\n",
              "        text-align: right;\n",
              "    }\n",
              "</style>\n",
              "<table border=\"1\" class=\"dataframe\">\n",
              "  <thead>\n",
              "    <tr style=\"text-align: right;\">\n",
              "      <th></th>\n",
              "      <th>Close Price</th>\n",
              "      <th>Prediction</th>\n",
              "      <th>Difference</th>\n",
              "    </tr>\n",
              "  </thead>\n",
              "  <tbody>\n",
              "    <tr>\n",
              "      <th>2570</th>\n",
              "      <td>344.50</td>\n",
              "      <td>388.520018</td>\n",
              "      <td>-44.020018</td>\n",
              "    </tr>\n",
              "    <tr>\n",
              "      <th>2571</th>\n",
              "      <td>347.60</td>\n",
              "      <td>392.030056</td>\n",
              "      <td>-44.430056</td>\n",
              "    </tr>\n",
              "    <tr>\n",
              "      <th>2572</th>\n",
              "      <td>342.70</td>\n",
              "      <td>388.891821</td>\n",
              "      <td>-46.191821</td>\n",
              "    </tr>\n",
              "    <tr>\n",
              "      <th>2573</th>\n",
              "      <td>346.05</td>\n",
              "      <td>390.026358</td>\n",
              "      <td>-43.976358</td>\n",
              "    </tr>\n",
              "    <tr>\n",
              "      <th>2574</th>\n",
              "      <td>348.50</td>\n",
              "      <td>388.727972</td>\n",
              "      <td>-40.227972</td>\n",
              "    </tr>\n",
              "    <tr>\n",
              "      <th>2575</th>\n",
              "      <td>339.20</td>\n",
              "      <td>404.667666</td>\n",
              "      <td>-65.467666</td>\n",
              "    </tr>\n",
              "    <tr>\n",
              "      <th>2576</th>\n",
              "      <td>338.85</td>\n",
              "      <td>413.590156</td>\n",
              "      <td>-74.740156</td>\n",
              "    </tr>\n",
              "    <tr>\n",
              "      <th>2577</th>\n",
              "      <td>338.70</td>\n",
              "      <td>410.398969</td>\n",
              "      <td>-71.698969</td>\n",
              "    </tr>\n",
              "    <tr>\n",
              "      <th>2578</th>\n",
              "      <td>353.25</td>\n",
              "      <td>412.357863</td>\n",
              "      <td>-59.107863</td>\n",
              "    </tr>\n",
              "    <tr>\n",
              "      <th>2579</th>\n",
              "      <td>349.90</td>\n",
              "      <td>407.626061</td>\n",
              "      <td>-57.726061</td>\n",
              "    </tr>\n",
              "    <tr>\n",
              "      <th>2580</th>\n",
              "      <td>355.30</td>\n",
              "      <td>402.989973</td>\n",
              "      <td>-47.689973</td>\n",
              "    </tr>\n",
              "    <tr>\n",
              "      <th>2581</th>\n",
              "      <td>359.35</td>\n",
              "      <td>417.924093</td>\n",
              "      <td>-58.574093</td>\n",
              "    </tr>\n",
              "  </tbody>\n",
              "</table>\n",
              "</div>"
            ],
            "text/plain": [
              "      Close Price  Prediction  Difference\n",
              "2570       344.50  388.520018  -44.020018\n",
              "2571       347.60  392.030056  -44.430056\n",
              "2572       342.70  388.891821  -46.191821\n",
              "2573       346.05  390.026358  -43.976358\n",
              "2574       348.50  388.727972  -40.227972\n",
              "2575       339.20  404.667666  -65.467666\n",
              "2576       338.85  413.590156  -74.740156\n",
              "2577       338.70  410.398969  -71.698969\n",
              "2578       353.25  412.357863  -59.107863\n",
              "2579       349.90  407.626061  -57.726061\n",
              "2580       355.30  402.989973  -47.689973\n",
              "2581       359.35  417.924093  -58.574093"
            ]
          },
          "execution_count": 31,
          "metadata": {},
          "output_type": "execute_result"
        }
      ],
      "source": [
        "test"
      ]
    },
    {
      "cell_type": "markdown",
      "metadata": {
        "id": "sCih_8KjJwf7"
      },
      "source": [
        "**Lets plot this**"
      ]
    },
    {
      "cell_type": "code",
      "execution_count": 32,
      "metadata": {
        "colab": {
          "base_uri": "https://localhost:8080/",
          "height": 368
        },
        "id": "RLjadlsLJMZ4",
        "outputId": "500d6786-326d-4239-906b-82ef6de95c17"
      },
      "outputs": [
        {
          "data": {
            "image/png": "[encoded data removed]",
            "text/plain": [
              "<Figure size 1200x400 with 2 Axes>"
            ]
          },
          "metadata": {},
          "output_type": "display_data"
        }
      ],
      "source": [
        "plt.figure(figsize = (12,4))\n",
        "plt.subplot(1,2,1)\n",
        "plt.plot(test)\n",
        "\n",
        "plt.subplot(1,2,2)\n",
        "df['Close Price'].plot()\n",
        "plt.legend()\n",
        "plt.show()"
      ]
    },
    {
      "cell_type": "code",
      "execution_count": 33,
      "metadata": {
        "colab": {
          "base_uri": "https://localhost:8080/",
          "height": 448
        },
        "id": "XpPUrVpYJ0Ex",
        "outputId": "0a789890-6da5-4b90-90d0-16a4906a5df1"
      },
      "outputs": [
        {
          "data": {
            "text/plain": [
              "<Axes: >"
            ]
          },
          "execution_count": 33,
          "metadata": {},
          "output_type": "execute_result"
        },
        {
          "data": {
            "image/png": "[encoded data removed]",
            "text/plain": [
              "<Figure size 640x480 with 1 Axes>"
            ]
          },
          "metadata": {},
          "output_type": "display_data"
        }
      ],
      "source": [
        "test.plot()"
      ]
    },
    {
      "cell_type": "code",
      "execution_count": null,
      "metadata": {
        "id": "axf0odCLOyo9"
      },
      "outputs": [],
      "source": []
    }
  ],
  "metadata": {
    "colab": {
      "provenance": []
    },
    "kernelspec": {
      "display_name": "Python 3",
      "name": "python3"
    },
    "language_info": {
      "codemirror_mode": {
        "name": "ipython",
        "version": 3
      },
      "file_extension": ".py",
      "mimetype": "text/x-python",
      "name": "python",
      "nbconvert_exporter": "python",
      "pygments_lexer": "ipython3",
      "version": "3.12.2"
    }
  },
  "nbformat": 4,
  "nbformat_minor": 0
}
